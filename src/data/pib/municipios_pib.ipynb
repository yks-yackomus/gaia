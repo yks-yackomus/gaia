{
 "cells": [
  {
   "cell_type": "code",
   "execution_count": null,
   "id": "2e2b3bd6-9052-4546-927d-e973117f23d2",
   "metadata": {},
   "outputs": [],
   "source": [
    "import polars as pl\n",
    "import datetime as dt"
   ]
  },
  {
   "cell_type": "code",
   "execution_count": null,
   "id": "bec19612-d308-4157-a573-a007352cfebb",
   "metadata": {},
   "outputs": [],
   "source": [
    "temp = (\n",
    "    pl.read_excel('./municipios_pib.xlsx')\n",
    "    .drop(['municipio_nome_uf'])\n",
    "    .unpivot(index='municipio_codigo', variable_name='aaaa', value_name='pib_brl')\n",
    "    .with_columns(\n",
    "        pl.col('pib_brl').mul(1e3),\n",
    "        pl.col('aaaa').str.to_date(format='%Y'),\n",
    "        pl.col('municipio_codigo').str.slice(length=2, offset=0).alias('uf_codigo')\n",
    "    )\n",
    "    .rename({\n",
    "        'municipio_codigo':'municipio_codigo_7'\n",
    "    })\n",
    ")"
   ]
  },
  {
   "cell_type": "code",
   "execution_count": null,
   "id": "768be242-ef74-4d2c-a974-d3b27cd3e779",
   "metadata": {},
   "outputs": [],
   "source": [
    "(\n",
    "    pl.read_excel('./municipios_pib.xlsx')\n",
    "    .drop(['municipio_nome_uf'])\n",
    "    .unpivot(index='municipio_codigo', variable_name='aaaa', value_name='pib_brl')\n",
    "    .with_columns(\n",
    "        pl.col('pib_brl').mul(1e3),\n",
    "        pl.col('aaaa').str.to_date(format='%Y'),\n",
    "        pl.col('municipio_codigo').str.slice(length=2, offset=0).alias('uf_codigo')\n",
    "    )\n",
    "    .rename({\n",
    "        'municipio_codigo':'municipio_codigo_7'\n",
    "    })\n",
    "    .filter(\n",
    "        pl.col('aaaa') == dt.datetime(2021,1,1)\n",
    "    )\n",
    "    .join(other=pl.read_excel('./uf_pib_2022.xlsx'), on='uf_codigo', how='left')\n",
    "    .with_columns(\n",
    "        pl.col('pib_brl').mul(pl.col('pib_2022_pct') + pl.lit(1)),\n",
    "        pl.col('aaaa_right').cast(str).str.to_date(format='%Y').alias('aaaa')\n",
    "    )\n",
    "    .select(\n",
    "        'municipio_codigo_7',\n",
    "        'aaaa',\n",
    "        'pib_brl',\n",
    "        'uf_codigo',\n",
    "    )\n",
    "    .vstack(temp)\n",
    "    .sort(['aaaa'])\n",
    ").write_parquet('./municipio_pib.parquet')"
   ]
  },
  {
   "cell_type": "code",
   "execution_count": null,
   "id": "1c58accc-5683-4839-a914-9bac19f20e1e",
   "metadata": {},
   "outputs": [],
   "source": []
  }
 ],
 "metadata": {
  "kernelspec": {
   "display_name": "Python 3 (ipykernel)",
   "language": "python",
   "name": "python3"
  },
  "language_info": {
   "codemirror_mode": {
    "name": "ipython",
    "version": 3
   },
   "file_extension": ".py",
   "mimetype": "text/x-python",
   "name": "python",
   "nbconvert_exporter": "python",
   "pygments_lexer": "ipython3",
   "version": "3.9.6"
  }
 },
 "nbformat": 4,
 "nbformat_minor": 5
}
