{
 "cells": [
  {
   "cell_type": "code",
   "execution_count": null,
   "id": "7badf76b-7156-45f0-9388-b97a7d271a6b",
   "metadata": {},
   "outputs": [],
   "source": [
    "import polars as pl"
   ]
  },
  {
   "cell_type": "code",
   "execution_count": null,
   "id": "2043e39f-d121-4696-b8b2-7f0005a36e3e",
   "metadata": {},
   "outputs": [],
   "source": [
    "(\n",
    "    pl.read_parquet('./municipio_completo.parquet')\n",
    "    .group_by([\n",
    "        'regiao',\n",
    "        'uf',\n",
    "        'uf_nome',\n",
    "    ])\n",
    "    .agg(\n",
    "        pl.col('municipio_codigo_7').count().alias('municipios_count')\n",
    "    )\n",
    "    .sort(['municipios_count'], descending=True)\n",
    "    .filter(pl.col('uf') != 'DF')\n",
    "    .join(\n",
    "        other=pl.read_parquet('./uf_capital.parquet'),\n",
    "        on='uf',\n",
    "        how='left'\n",
    "    )\n",
    "    .rename({\n",
    "        'regiao':'Regiao',\n",
    "        'uf':'UF',\n",
    "        'uf_nome':'Estado',\n",
    "        'municipios_count':'Municipios',\n",
    "        'municipio_nome':'Capital',\n",
    "    })\n",
    ").write_csv('./p-municipios-por-estado.csv')"
   ]
  },
  {
   "cell_type": "code",
   "execution_count": null,
   "id": "a5ada86b-eb69-402d-bf3b-e8363ed0e195",
   "metadata": {},
   "outputs": [],
   "source": []
  }
 ],
 "metadata": {
  "kernelspec": {
   "display_name": "Python 3 (ipykernel)",
   "language": "python",
   "name": "python3"
  },
  "language_info": {
   "codemirror_mode": {
    "name": "ipython",
    "version": 3
   },
   "file_extension": ".py",
   "mimetype": "text/x-python",
   "name": "python",
   "nbconvert_exporter": "python",
   "pygments_lexer": "ipython3",
   "version": "3.9.6"
  }
 },
 "nbformat": 4,
 "nbformat_minor": 5
}
