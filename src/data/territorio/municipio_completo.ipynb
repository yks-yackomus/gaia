{
 "cells": [
  {
   "cell_type": "code",
   "execution_count": null,
   "id": "310f5c7b-7e24-4100-aeaf-df892e7602c5",
   "metadata": {},
   "outputs": [],
   "source": [
    "import polars as pl"
   ]
  },
  {
   "cell_type": "code",
   "execution_count": null,
   "id": "ebac3550-f561-4f61-bb05-7b7bd48c1814",
   "metadata": {},
   "outputs": [],
   "source": [
    "siafi=(\n",
    "    pl.read_csv('./municipio_igbe_siafi.csv')\n",
    "    .rename({\n",
    "        'codigo_ibge':'municipio_codigo_7',\n",
    "    })\n",
    "    .drop([\n",
    "        'codigo_uf',\n",
    "        'fuso_horario'\n",
    "    ])\n",
    "    .with_columns(\n",
    "        pl.col('municipio_codigo_7').cast(str)\n",
    "    )\n",
    ")\n",
    "siafi"
   ]
  },
  {
   "cell_type": "code",
   "execution_count": null,
   "id": "c22a9a4b-70de-4544-95a5-48672c21757e",
   "metadata": {},
   "outputs": [],
   "source": [
    "(\n",
    "    pl.read_excel('./territorio_codigo.xlsx')\n",
    "    .filter(\n",
    "        pl.col('categoria') == 'Município'\n",
    "    )\n",
    "    .drop(['categoria'])\n",
    "    .rename({\n",
    "        'codigo':'municipio_codigo_7',\n",
    "        'nome':'municipio_nome',\n",
    "    })\n",
    "    .with_columns(\n",
    "        pl.col('municipio_codigo_7').str.slice(length=2, offset=0).alias('uf_codigo')\n",
    "    )\n",
    "    .join(\n",
    "        other=pl.read_parquet('./uf_completo.parquet'),\n",
    "        on='uf_codigo',\n",
    "        how='left'\n",
    "    )\n",
    "    .join(\n",
    "        other=siafi,\n",
    "        on='municipio_codigo_7',\n",
    "        how='left'\n",
    "    )\n",
    "    .drop(['nome'])\n",
    "    .rename({\n",
    "        'siafi_id':'municipio_siafi'\n",
    "    })\n",
    ").write_parquet('./municipio_completo.parquet')"
   ]
  },
  {
   "cell_type": "code",
   "execution_count": null,
   "id": "9b9ddb00-637c-4798-96af-b63cda6c571a",
   "metadata": {},
   "outputs": [],
   "source": []
  }
 ],
 "metadata": {
  "kernelspec": {
   "display_name": "Python 3 (ipykernel)",
   "language": "python",
   "name": "python3"
  },
  "language_info": {
   "codemirror_mode": {
    "name": "ipython",
    "version": 3
   },
   "file_extension": ".py",
   "mimetype": "text/x-python",
   "name": "python",
   "nbconvert_exporter": "python",
   "pygments_lexer": "ipython3",
   "version": "3.9.6"
  }
 },
 "nbformat": 4,
 "nbformat_minor": 5
}
