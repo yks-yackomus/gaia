{
 "cells": [
  {
   "cell_type": "code",
   "execution_count": null,
   "id": "617e39fa-32b3-4ad2-aa02-2fa9ac612c85",
   "metadata": {},
   "outputs": [],
   "source": [
    "import polars as pl"
   ]
  },
  {
   "cell_type": "code",
   "execution_count": null,
   "id": "086713be-d3d1-4717-b6d2-ce748b8ce206",
   "metadata": {},
   "outputs": [],
   "source": [
    "(\n",
    "    pl.read_parquet('./municipio_completo.parquet')\n",
    "    .filter(pl.col('capital') == True)\n",
    "    .select(pl.col([\n",
    "        'uf',\n",
    "        'municipio_nome',\n",
    "    ]))\n",
    ").write_parquet('./uf_capital.parquet')"
   ]
  },
  {
   "cell_type": "code",
   "execution_count": null,
   "id": "8ea6f09c-6faa-4793-a957-7916bb43f6e9",
   "metadata": {},
   "outputs": [],
   "source": []
  }
 ],
 "metadata": {
  "kernelspec": {
   "display_name": "Python 3 (ipykernel)",
   "language": "python",
   "name": "python3"
  },
  "language_info": {
   "codemirror_mode": {
    "name": "ipython",
    "version": 3
   },
   "file_extension": ".py",
   "mimetype": "text/x-python",
   "name": "python",
   "nbconvert_exporter": "python",
   "pygments_lexer": "ipython3",
   "version": "3.9.6"
  }
 },
 "nbformat": 4,
 "nbformat_minor": 5
}
