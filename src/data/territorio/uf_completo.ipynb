{
 "cells": [
  {
   "cell_type": "code",
   "execution_count": null,
   "id": "12fdffaf-909c-4379-845a-38bd5fb440f7",
   "metadata": {},
   "outputs": [],
   "source": [
    "import polars as pl"
   ]
  },
  {
   "cell_type": "code",
   "execution_count": null,
   "id": "4faf0f40-54ec-4911-b985-f8a5fdcd27b8",
   "metadata": {},
   "outputs": [],
   "source": [
    "(\n",
    "    pl.read_excel('./territorio_codigo.xlsx')\n",
    "    .filter(\n",
    "        pl.col('categoria') == 'Unidade da Federação'\n",
    "    )\n",
    "    .drop(['categoria'])\n",
    "    .rename({\n",
    "        'codigo':'uf_codigo',\n",
    "        'nome':'uf_nome',\n",
    "    })\n",
    "    .join(\n",
    "        other=pl.read_excel('./uf.xlsx'),\n",
    "        on='uf_codigo',\n",
    "        how='left'\n",
    "    )\n",
    "    .join(\n",
    "        other=pl.read_excel('./uf_regiao.xlsx'),\n",
    "        on='uf_codigo',\n",
    "        how='left'\n",
    "    )\n",
    ").write_parquet('./uf_completo.parquet')"
   ]
  },
  {
   "cell_type": "code",
   "execution_count": null,
   "id": "331d8dbe-9d95-4526-9a64-725b86589fdb",
   "metadata": {},
   "outputs": [],
   "source": []
  }
 ],
 "metadata": {
  "kernelspec": {
   "display_name": "Python 3 (ipykernel)",
   "language": "python",
   "name": "python3"
  },
  "language_info": {
   "codemirror_mode": {
    "name": "ipython",
    "version": 3
   },
   "file_extension": ".py",
   "mimetype": "text/x-python",
   "name": "python",
   "nbconvert_exporter": "python",
   "pygments_lexer": "ipython3",
   "version": "3.9.6"
  }
 },
 "nbformat": 4,
 "nbformat_minor": 5
}
