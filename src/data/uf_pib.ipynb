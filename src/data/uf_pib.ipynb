{
 "cells": [
  {
   "cell_type": "code",
   "execution_count": null,
   "id": "646061f7-bde7-4767-96f4-e9765735fae7",
   "metadata": {},
   "outputs": [],
   "source": [
    "import polars as pl"
   ]
  },
  {
   "cell_type": "code",
   "execution_count": null,
   "id": "d152799f-2777-450a-a8d0-b214cadce729",
   "metadata": {},
   "outputs": [],
   "source": [
    "(\n",
    "    pl.read_parquet('./pib/municipio_pib.parquet')\n",
    "    .join(\n",
    "        other=pl.read_parquet('./territorio/municipio_completo.parquet'),\n",
    "        on='municipio_codigo_7',\n",
    "        how='left'\n",
    "    )\n",
    "    .drop(['uf_codigo_right'])\n",
    "    .group_by([\n",
    "        'uf_codigo',\n",
    "        'aaaa',\n",
    "        'uf',\n",
    "        'uf_nome',\n",
    "        'regiao',\n",
    "    ])\n",
    "    .agg(\n",
    "        pl.col('pib_brl').sum()\n",
    "    )\n",
    "    .sort(['uf_codigo','aaaa'])\n",
    ").write_parquet('uf_pib.parquet')"
   ]
  },
  {
   "cell_type": "code",
   "execution_count": null,
   "id": "3ee59091-59f1-4ab6-8134-7114eca9553c",
   "metadata": {},
   "outputs": [],
   "source": []
  }
 ],
 "metadata": {
  "kernelspec": {
   "display_name": "Python 3 (ipykernel)",
   "language": "python",
   "name": "python3"
  },
  "language_info": {
   "codemirror_mode": {
    "name": "ipython",
    "version": 3
   },
   "file_extension": ".py",
   "mimetype": "text/x-python",
   "name": "python",
   "nbconvert_exporter": "python",
   "pygments_lexer": "ipython3",
   "version": "3.9.6"
  }
 },
 "nbformat": 4,
 "nbformat_minor": 5
}
