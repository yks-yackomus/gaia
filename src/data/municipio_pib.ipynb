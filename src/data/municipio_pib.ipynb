{
 "cells": [
  {
   "cell_type": "code",
   "execution_count": null,
   "id": "f0d36fbd-4a0a-4ef2-8ce6-56845a56b7ae",
   "metadata": {},
   "outputs": [],
   "source": [
    "import polars as pl"
   ]
  },
  {
   "cell_type": "code",
   "execution_count": null,
   "id": "224339bc-c472-4bcd-a1e6-5b314a42f44c",
   "metadata": {},
   "outputs": [],
   "source": [
    "(\n",
    "    pl.read_parquet('./pib/municipio_pib.parquet')\n",
    "    .join(\n",
    "        other=pl.read_parquet('./territorio/municipio_completo.parquet'),\n",
    "        on='municipio_codigo_7',\n",
    "        how='left'\n",
    "    )\n",
    "    .drop(['uf_codigo_right'])\n",
    "    .sort(['municipio_codigo_7','aaaa'])\n",
    ").write_parquet('municipio_pib.parquet')"
   ]
  },
  {
   "cell_type": "code",
   "execution_count": null,
   "id": "97bf9aa5-e739-46f8-bddc-a8bcb558d2da",
   "metadata": {},
   "outputs": [],
   "source": []
  }
 ],
 "metadata": {
  "kernelspec": {
   "display_name": "Python 3 (ipykernel)",
   "language": "python",
   "name": "python3"
  },
  "language_info": {
   "codemirror_mode": {
    "name": "ipython",
    "version": 3
   },
   "file_extension": ".py",
   "mimetype": "text/x-python",
   "name": "python",
   "nbconvert_exporter": "python",
   "pygments_lexer": "ipython3",
   "version": "3.9.6"
  }
 },
 "nbformat": 4,
 "nbformat_minor": 5
}
