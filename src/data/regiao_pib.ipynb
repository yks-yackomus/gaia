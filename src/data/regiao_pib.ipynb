{
 "cells": [
  {
   "cell_type": "code",
   "execution_count": null,
   "id": "7ac38217-b8b3-4e73-8570-463df026dcb8",
   "metadata": {},
   "outputs": [],
   "source": [
    "import polars as pl"
   ]
  },
  {
   "cell_type": "code",
   "execution_count": null,
   "id": "2e221bfe-59ff-4418-b41c-87243c3cc0a7",
   "metadata": {},
   "outputs": [],
   "source": [
    "(\n",
    "    pl.read_parquet('./pib/municipio_pib.parquet')\n",
    "    .join(\n",
    "        other=pl.read_parquet('./territorio/municipio_completo.parquet'),\n",
    "        on='municipio_codigo_7',\n",
    "        how='left'\n",
    "    )\n",
    "    .drop(['uf_codigo_right'])\n",
    "    .group_by([\n",
    "        'regiao',\n",
    "        'aaaa',\n",
    "    ])\n",
    "    .agg(\n",
    "        pl.col('pib_brl').sum()\n",
    "    )\n",
    "    .sort(['regiao','aaaa'])\n",
    ").write_parquet('regiao_pib.parquet')"
   ]
  },
  {
   "cell_type": "code",
   "execution_count": null,
   "id": "41b9afeb-9494-45e2-985f-e7fa341d1601",
   "metadata": {},
   "outputs": [],
   "source": []
  }
 ],
 "metadata": {
  "kernelspec": {
   "display_name": "Python 3 (ipykernel)",
   "language": "python",
   "name": "python3"
  },
  "language_info": {
   "codemirror_mode": {
    "name": "ipython",
    "version": 3
   },
   "file_extension": ".py",
   "mimetype": "text/x-python",
   "name": "python",
   "nbconvert_exporter": "python",
   "pygments_lexer": "ipython3",
   "version": "3.9.6"
  }
 },
 "nbformat": 4,
 "nbformat_minor": 5
}
