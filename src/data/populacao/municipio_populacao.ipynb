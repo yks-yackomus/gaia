{
 "cells": [
  {
   "cell_type": "code",
   "execution_count": null,
   "id": "f9b95113-1ce6-4151-991d-c36ff6f93249",
   "metadata": {},
   "outputs": [],
   "source": [
    "import polars as pl"
   ]
  },
  {
   "cell_type": "code",
   "execution_count": null,
   "id": "d0ee9fef-f3a6-4dfc-9e03-a6901247f416",
   "metadata": {},
   "outputs": [],
   "source": [
    "(\n",
    "    pl.read_excel('./municipios_populacao.xlsx')\n",
    "    .drop(['municipio_nome_uf'])\n",
    "    .with_columns(\n",
    "        pl.lit(None).alias('2007'),\n",
    "        pl.lit(None).alias('2010'),\n",
    "        pl.lit(None).alias('2022'),\n",
    "        pl.lit(None).alias('2023'),\n",
    "    )\n",
    "    .unpivot(index='municipio_codigo', variable_name='aaaa', value_name='populacao')\n",
    "    .pivot('municipio_codigo',index='aaaa', values='populacao')\n",
    "    .sort('aaaa')\n",
    "    .interpolate()\n",
    "    .unpivot(index='aaaa', variable_name='municipio_codigo', value_name='populacao')\n",
    "    .with_columns(\n",
    "        pl.col('populacao').cast(int),\n",
    "        pl.col('municipio_codigo').str.slice(length=2, offset=0).alias('uf_codigo'),\n",
    "        pl.col('aaaa').str.to_date(format='%Y')\n",
    "    )\n",
    "    .rename({\n",
    "        'municipio_codigo':'municipio_codigo_7'\n",
    "    })\n",
    ").write_parquet('./municipio_populacao.parquet')"
   ]
  },
  {
   "cell_type": "code",
   "execution_count": null,
   "id": "9846a794-9a07-43ec-918e-89bf808236c4",
   "metadata": {},
   "outputs": [],
   "source": []
  }
 ],
 "metadata": {
  "kernelspec": {
   "display_name": "Python 3 (ipykernel)",
   "language": "python",
   "name": "python3"
  },
  "language_info": {
   "codemirror_mode": {
    "name": "ipython",
    "version": 3
   },
   "file_extension": ".py",
   "mimetype": "text/x-python",
   "name": "python",
   "nbconvert_exporter": "python",
   "pygments_lexer": "ipython3",
   "version": "3.9.6"
  }
 },
 "nbformat": 4,
 "nbformat_minor": 5
}
