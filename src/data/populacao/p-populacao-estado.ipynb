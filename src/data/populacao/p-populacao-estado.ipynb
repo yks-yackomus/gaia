{
 "cells": [
  {
   "cell_type": "code",
   "execution_count": 6,
   "id": "cc3d219c-ae3a-45d4-bcae-c2a728bce048",
   "metadata": {},
   "outputs": [],
   "source": [
    "import polars as pl\n",
    "import datetime as dt"
   ]
  },
  {
   "cell_type": "code",
   "execution_count": 9,
   "id": "ca90f309-5fc0-4a03-8cea-da517cab430a",
   "metadata": {},
   "outputs": [],
   "source": [
    "\n",
    "(\n",
    "    pl.read_parquet('./municipio_populacao.parquet')\n",
    "    .join(\n",
    "        other=pl.read_excel('../territorio/uf_regiao.xlsx'),\n",
    "        on='uf_codigo',\n",
    "    )\n",
    "    .group_by([\n",
    "        'aaaa',\n",
    "        'regiao',\n",
    "        'uf_codigo',\n",
    "    ])\n",
    "    .agg(\n",
    "        pl.col('populacao').sum()\n",
    "    )\n",
    "    .filter(\n",
    "        pl.col('aaaa') == dt.datetime(2024,1,1)\n",
    "    )\n",
    "    .join(\n",
    "        other=pl.read_excel('../territorio/uf_codigo.xlsx'),\n",
    "        on='uf_codigo',\n",
    "        how='left'\n",
    "    )\n",
    ").write_csv('./p-populacao-estado.csv')"
   ]
  },
  {
   "cell_type": "code",
   "execution_count": null,
   "id": "d74201ce-32d7-473e-9476-3a3fd366afa1",
   "metadata": {},
   "outputs": [],
   "source": []
  }
 ],
 "metadata": {
  "kernelspec": {
   "display_name": "Python 3 (ipykernel)",
   "language": "python",
   "name": "python3"
  },
  "language_info": {
   "codemirror_mode": {
    "name": "ipython",
    "version": 3
   },
   "file_extension": ".py",
   "mimetype": "text/x-python",
   "name": "python",
   "nbconvert_exporter": "python",
   "pygments_lexer": "ipython3",
   "version": "3.9.6"
  }
 },
 "nbformat": 4,
 "nbformat_minor": 5
}
