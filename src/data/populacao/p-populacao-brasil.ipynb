{
 "cells": [
  {
   "cell_type": "code",
   "execution_count": null,
   "id": "7f262b73-8b67-4ceb-9ce6-d78acc553150",
   "metadata": {},
   "outputs": [],
   "source": [
    "import polars as pl"
   ]
  },
  {
   "cell_type": "code",
   "execution_count": null,
   "id": "8973b8c1-bf45-4306-a9fa-f793a3665f76",
   "metadata": {},
   "outputs": [],
   "source": [
    "(\n",
    "    pl.read_parquet('./municipio_populacao.parquet')\n",
    "    .sort(['aaaa'])\n",
    "    .group_by_dynamic(\n",
    "        index_column='aaaa',\n",
    "        every='1y'\n",
    "    )\n",
    "    .agg(\n",
    "        pl.col('populacao').sum()\n",
    "    )\n",
    "    .rename({'aaaa':'Ano'})\n",
    ").write_csv('./p-populacao-brasil.csv')"
   ]
  },
  {
   "cell_type": "code",
   "execution_count": null,
   "id": "3a3be752-2715-4d6a-ba41-63a100b32834",
   "metadata": {},
   "outputs": [],
   "source": []
  }
 ],
 "metadata": {
  "kernelspec": {
   "display_name": "Python 3 (ipykernel)",
   "language": "python",
   "name": "python3"
  },
  "language_info": {
   "codemirror_mode": {
    "name": "ipython",
    "version": 3
   },
   "file_extension": ".py",
   "mimetype": "text/x-python",
   "name": "python",
   "nbconvert_exporter": "python",
   "pygments_lexer": "ipython3",
   "version": "3.9.6"
  }
 },
 "nbformat": 4,
 "nbformat_minor": 5
}
