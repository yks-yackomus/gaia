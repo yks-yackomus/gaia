{
 "cells": [
  {
   "cell_type": "code",
   "execution_count": 26,
   "id": "6fff7622-1290-4755-8926-e6ce074325cb",
   "metadata": {},
   "outputs": [],
   "source": [
    "import polars as pl\n",
    "import datetime as dt"
   ]
  },
  {
   "cell_type": "code",
   "execution_count": 34,
   "id": "24244195-a9ac-43dd-b706-2a7048daa860",
   "metadata": {},
   "outputs": [
    {
     "data": {
      "text/html": [
       "<div><style>\n",
       ".dataframe > thead > tr,\n",
       ".dataframe > tbody > tr {\n",
       "  text-align: right;\n",
       "  white-space: pre-wrap;\n",
       "}\n",
       "</style>\n",
       "<small>shape: (5_570, 7)</small><table border=\"1\" class=\"dataframe\"><thead><tr><th>ano</th><th>regiao</th><th>estado</th><th>municipio</th><th>populacao</th><th>area</th><th>densidade</th></tr><tr><td>date</td><td>str</td><td>str</td><td>str</td><td>i64</td><td>f64</td><td>f64</td></tr></thead><tbody><tr><td>2024-01-01</td><td>&quot;Norte&quot;</td><td>&quot;Amazonas&quot;</td><td>&quot;Barcelos&quot;</td><td>18626</td><td>122462.433</td><td>0.152096</td></tr><tr><td>2024-01-01</td><td>&quot;Norte&quot;</td><td>&quot;Amazonas&quot;</td><td>&quot;Japurá&quot;</td><td>9397</td><td>55827.202</td><td>0.168323</td></tr><tr><td>2024-01-01</td><td>&quot;Norte&quot;</td><td>&quot;Amazonas&quot;</td><td>&quot;Atalaia do Norte&quot;</td><td>15892</td><td>76507.617</td><td>0.207718</td></tr><tr><td>2024-01-01</td><td>&quot;Norte&quot;</td><td>&quot;Amazonas&quot;</td><td>&quot;Santa Isabel do Rio Negro&quot;</td><td>14176</td><td>62798.845</td><td>0.225737</td></tr><tr><td>2024-01-01</td><td>&quot;Norte&quot;</td><td>&quot;Amazonas&quot;</td><td>&quot;Tapauá&quot;</td><td>20501</td><td>84946.035</td><td>0.241341</td></tr><tr><td>&hellip;</td><td>&hellip;</td><td>&hellip;</td><td>&hellip;</td><td>&hellip;</td><td>&hellip;</td><td>&hellip;</td></tr><tr><td>2024-01-01</td><td>&quot;Sudeste&quot;</td><td>&quot;São Paulo&quot;</td><td>&quot;Carapicuíba&quot;</td><td>398462</td><td>34.546</td><td>11534.244196</td></tr><tr><td>2024-01-01</td><td>&quot;Sudeste&quot;</td><td>&quot;São Paulo&quot;</td><td>&quot;Osasco&quot;</td><td>756952</td><td>64.954</td><td>11653.662592</td></tr><tr><td>2024-01-01</td><td>&quot;Sudeste&quot;</td><td>&quot;São Paulo&quot;</td><td>&quot;Diadema&quot;</td><td>404118</td><td>30.732</td><td>13149.746193</td></tr><tr><td>2024-01-01</td><td>&quot;Sudeste&quot;</td><td>&quot;Rio de Janeiro&quot;</td><td>&quot;São João de Meriti&quot;</td><td>466536</td><td>35.216</td><td>13247.84189</td></tr><tr><td>2024-01-01</td><td>&quot;Sudeste&quot;</td><td>&quot;São Paulo&quot;</td><td>&quot;Taboão da Serra&quot;</td><td>284274</td><td>20.388</td><td>13943.201883</td></tr></tbody></table></div>"
      ],
      "text/plain": [
       "shape: (5_570, 7)\n",
       "┌────────────┬─────────┬────────────────┬──────────────────┬───────────┬────────────┬──────────────┐\n",
       "│ ano        ┆ regiao  ┆ estado         ┆ municipio        ┆ populacao ┆ area       ┆ densidade    │\n",
       "│ ---        ┆ ---     ┆ ---            ┆ ---              ┆ ---       ┆ ---        ┆ ---          │\n",
       "│ date       ┆ str     ┆ str            ┆ str              ┆ i64       ┆ f64        ┆ f64          │\n",
       "╞════════════╪═════════╪════════════════╪══════════════════╪═══════════╪════════════╪══════════════╡\n",
       "│ 2024-01-01 ┆ Norte   ┆ Amazonas       ┆ Barcelos         ┆ 18626     ┆ 122462.433 ┆ 0.152096     │\n",
       "│ 2024-01-01 ┆ Norte   ┆ Amazonas       ┆ Japurá           ┆ 9397      ┆ 55827.202  ┆ 0.168323     │\n",
       "│ 2024-01-01 ┆ Norte   ┆ Amazonas       ┆ Atalaia do Norte ┆ 15892     ┆ 76507.617  ┆ 0.207718     │\n",
       "│ 2024-01-01 ┆ Norte   ┆ Amazonas       ┆ Santa Isabel do  ┆ 14176     ┆ 62798.845  ┆ 0.225737     │\n",
       "│            ┆         ┆                ┆ Rio Negro        ┆           ┆            ┆              │\n",
       "│ 2024-01-01 ┆ Norte   ┆ Amazonas       ┆ Tapauá           ┆ 20501     ┆ 84946.035  ┆ 0.241341     │\n",
       "│ …          ┆ …       ┆ …              ┆ …                ┆ …         ┆ …          ┆ …            │\n",
       "│ 2024-01-01 ┆ Sudeste ┆ São Paulo      ┆ Carapicuíba      ┆ 398462    ┆ 34.546     ┆ 11534.244196 │\n",
       "│ 2024-01-01 ┆ Sudeste ┆ São Paulo      ┆ Osasco           ┆ 756952    ┆ 64.954     ┆ 11653.662592 │\n",
       "│ 2024-01-01 ┆ Sudeste ┆ São Paulo      ┆ Diadema          ┆ 404118    ┆ 30.732     ┆ 13149.746193 │\n",
       "│ 2024-01-01 ┆ Sudeste ┆ Rio de Janeiro ┆ São João de      ┆ 466536    ┆ 35.216     ┆ 13247.84189  │\n",
       "│            ┆         ┆                ┆ Meriti           ┆           ┆            ┆              │\n",
       "│ 2024-01-01 ┆ Sudeste ┆ São Paulo      ┆ Taboão da Serra  ┆ 284274    ┆ 20.388     ┆ 13943.201883 │\n",
       "└────────────┴─────────┴────────────────┴──────────────────┴───────────┴────────────┴──────────────┘"
      ]
     },
     "execution_count": 34,
     "metadata": {},
     "output_type": "execute_result"
    }
   ],
   "source": [
    "(\n",
    "    pl.read_parquet('./municipio_populacao.parquet')\n",
    "    .join(\n",
    "        other=pl.read_excel('../territorio/municipio_area.xlsx'),\n",
    "        on='municipio_codigo_7',\n",
    "        how='left'\n",
    "    )\n",
    "    .join(\n",
    "        other=pl.read_excel('../territorio/uf_regiao.xlsx'),\n",
    "        on='uf_codigo',\n",
    "        how='left'\n",
    "    )\n",
    "    .join(\n",
    "        other=pl.read_excel('../territorio/uf_codigo.xlsx'),\n",
    "        on='uf_codigo',\n",
    "        how='left'\n",
    "    )\n",
    "    .join(\n",
    "        other=pl.read_parquet('../territorio/municipio_completo.parquet').select(pl.col(['municipio_codigo_7','municipio_nome'])),\n",
    "        on='municipio_codigo_7',\n",
    "        how='left'\n",
    "    )\n",
    "    .with_columns(\n",
    "        pl.col('populacao')\n",
    "        .truediv(pl.col('area'))\n",
    "        .alias('densidade')\n",
    "    )\n",
    "    .select(\n",
    "        'aaaa',\n",
    "        'regiao',\n",
    "        'uf_nome',\n",
    "        'municipio_nome',\n",
    "        'populacao',\n",
    "        'area',\n",
    "        'densidade'\n",
    "    )\n",
    "    .rename({\n",
    "        'aaaa':'ano',\n",
    "        'uf_nome':'estado',\n",
    "        'municipio_nome':'municipio',\n",
    "    })\n",
    "    # .filter(\n",
    "    #     pl.col('ano') == dt.datetime(2024,1,1)\n",
    "    # )\n",
    "    # .drop_nulls()\n",
    "    # .sort(['densidade'])\n",
    ").write_csv('./p-densidade-municipio.csv')"
   ]
  },
  {
   "cell_type": "code",
   "execution_count": null,
   "id": "12a37b16-cf92-430b-9524-bb91f4e86ed1",
   "metadata": {},
   "outputs": [],
   "source": []
  }
 ],
 "metadata": {
  "kernelspec": {
   "display_name": "Python 3 (ipykernel)",
   "language": "python",
   "name": "python3"
  },
  "language_info": {
   "codemirror_mode": {
    "name": "ipython",
    "version": 3
   },
   "file_extension": ".py",
   "mimetype": "text/x-python",
   "name": "python",
   "nbconvert_exporter": "python",
   "pygments_lexer": "ipython3",
   "version": "3.9.6"
  }
 },
 "nbformat": 4,
 "nbformat_minor": 5
}
