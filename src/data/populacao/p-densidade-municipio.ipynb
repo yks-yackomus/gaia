{
 "cells": [
  {
   "cell_type": "code",
   "execution_count": 26,
   "id": "6fff7622-1290-4755-8926-e6ce074325cb",
   "metadata": {},
   "outputs": [],
   "source": [
    "import polars as pl\n",
    "import datetime as dt"
   ]
  },
  {
   "cell_type": "code",
   "execution_count": 38,
   "id": "24244195-a9ac-43dd-b706-2a7048daa860",
   "metadata": {},
   "outputs": [],
   "source": [
    "(\n",
    "    pl.read_parquet('./municipio_populacao.parquet')\n",
    "    .join(\n",
    "        other=pl.read_excel('../territorio/municipio_area.xlsx'),\n",
    "        on='municipio_codigo_7',\n",
    "        how='left'\n",
    "    )\n",
    "    .join(\n",
    "        other=pl.read_excel('../territorio/uf_regiao.xlsx'),\n",
    "        on='uf_codigo',\n",
    "        how='left'\n",
    "    )\n",
    "    .join(\n",
    "        other=pl.read_excel('../territorio/uf_codigo.xlsx'),\n",
    "        on='uf_codigo',\n",
    "        how='left'\n",
    "    )\n",
    "    .join(\n",
    "        other=pl.read_parquet('../territorio/municipio_completo.parquet').select(pl.col(['municipio_codigo_7','municipio_nome'])),\n",
    "        on='municipio_codigo_7',\n",
    "        how='left'\n",
    "    )\n",
    "    .with_columns(\n",
    "        pl.col('populacao')\n",
    "        .truediv(pl.col('area'))\n",
    "        .alias('densidade')\n",
    "    )\n",
    "    .select(\n",
    "        'aaaa',\n",
    "        'regiao',\n",
    "        'uf_nome',\n",
    "        'municipio_nome',\n",
    "        'populacao',\n",
    "        'area',\n",
    "        'densidade'\n",
    "    )\n",
    "    .rename({\n",
    "        'aaaa':'ano',\n",
    "        'uf_nome':'estado',\n",
    "        'municipio_nome':'municipio',\n",
    "        'regiao':'Região',\n",
    "    })\n",
    "    .filter(\n",
    "        pl.col('ano') == dt.datetime(2024,1,1)\n",
    "    )\n",
    "    # .drop_nulls()\n",
    "    .sort(['area'], descending=True)\n",
    ").write_csv('./p-densidade-municipio.csv')"
   ]
  },
  {
   "cell_type": "code",
   "execution_count": null,
   "id": "12a37b16-cf92-430b-9524-bb91f4e86ed1",
   "metadata": {},
   "outputs": [],
   "source": []
  }
 ],
 "metadata": {
  "kernelspec": {
   "display_name": "Python 3 (ipykernel)",
   "language": "python",
   "name": "python3"
  },
  "language_info": {
   "codemirror_mode": {
    "name": "ipython",
    "version": 3
   },
   "file_extension": ".py",
   "mimetype": "text/x-python",
   "name": "python",
   "nbconvert_exporter": "python",
   "pygments_lexer": "ipython3",
   "version": "3.9.6"
  }
 },
 "nbformat": 4,
 "nbformat_minor": 5
}
