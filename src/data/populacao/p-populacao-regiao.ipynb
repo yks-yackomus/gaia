{
 "cells": [
  {
   "cell_type": "code",
   "execution_count": 3,
   "id": "533ae46f-3540-4b73-999f-102aca351605",
   "metadata": {},
   "outputs": [],
   "source": [
    "import polars as pl"
   ]
  },
  {
   "cell_type": "code",
   "execution_count": 2,
   "id": "b4d00096-e287-4b6f-be70-2f91dd662909",
   "metadata": {},
   "outputs": [],
   "source": [
    "(\n",
    "    pl.read_parquet('./municipio_populacao.parquet')\n",
    "    .join(\n",
    "        other=pl.read_excel('../territorio/uf_regiao.xlsx'),\n",
    "        on='uf_codigo',\n",
    "    )\n",
    "    .group_by([\n",
    "        'aaaa',\n",
    "        'regiao',\n",
    "    ])\n",
    "    .agg(\n",
    "        pl.col('populacao').sum()\n",
    "    )\n",
    "    .sort(['aaaa'])\n",
    ").write_csv('./p-populacao-regiao.csv')"
   ]
  },
  {
   "cell_type": "code",
   "execution_count": 6,
   "id": "7d1ddbd0-8608-4afb-8bf9-89df46209849",
   "metadata": {},
   "outputs": [],
   "source": [
    "import datetime as dt"
   ]
  },
  {
   "cell_type": "code",
   "execution_count": 9,
   "id": "f3a397f1-43be-44b4-aaa8-7ccb496fa2b6",
   "metadata": {},
   "outputs": [
    {
     "data": {
      "text/html": [
       "<div><style>\n",
       ".dataframe > thead > tr,\n",
       ".dataframe > tbody > tr {\n",
       "  text-align: right;\n",
       "  white-space: pre-wrap;\n",
       "}\n",
       "</style>\n",
       "<small>shape: (5, 4)</small><table border=\"1\" class=\"dataframe\"><thead><tr><th>aaaa</th><th>regiao</th><th>populacao</th><th>pct</th></tr><tr><td>date</td><td>str</td><td>i64</td><td>f64</td></tr></thead><tbody><tr><td>2024-01-01</td><td>&quot;Nordeste&quot;</td><td>57112096</td><td>0.268657</td></tr><tr><td>2024-01-01</td><td>&quot;Centro-Oeste&quot;</td><td>17071595</td><td>0.080305</td></tr><tr><td>2024-01-01</td><td>&quot;Sudeste&quot;</td><td>88617693</td><td>0.41686</td></tr><tr><td>2024-01-01</td><td>&quot;Norte&quot;</td><td>18669345</td><td>0.087821</td></tr><tr><td>2024-01-01</td><td>&quot;Sul&quot;</td><td>31113021</td><td>0.146357</td></tr></tbody></table></div>"
      ],
      "text/plain": [
       "shape: (5, 4)\n",
       "┌────────────┬──────────────┬───────────┬──────────┐\n",
       "│ aaaa       ┆ regiao       ┆ populacao ┆ pct      │\n",
       "│ ---        ┆ ---          ┆ ---       ┆ ---      │\n",
       "│ date       ┆ str          ┆ i64       ┆ f64      │\n",
       "╞════════════╪══════════════╪═══════════╪══════════╡\n",
       "│ 2024-01-01 ┆ Nordeste     ┆ 57112096  ┆ 0.268657 │\n",
       "│ 2024-01-01 ┆ Centro-Oeste ┆ 17071595  ┆ 0.080305 │\n",
       "│ 2024-01-01 ┆ Sudeste      ┆ 88617693  ┆ 0.41686  │\n",
       "│ 2024-01-01 ┆ Norte        ┆ 18669345  ┆ 0.087821 │\n",
       "│ 2024-01-01 ┆ Sul          ┆ 31113021  ┆ 0.146357 │\n",
       "└────────────┴──────────────┴───────────┴──────────┘"
      ]
     },
     "execution_count": 9,
     "metadata": {},
     "output_type": "execute_result"
    }
   ],
   "source": [
    "(\n",
    "    pl.read_parquet('./municipio_populacao.parquet')\n",
    "    .join(\n",
    "        other=pl.read_excel('../territorio/uf_regiao.xlsx'),\n",
    "        on='uf_codigo',\n",
    "    )\n",
    "    .group_by([\n",
    "        'aaaa',\n",
    "        'regiao',\n",
    "    ])\n",
    "    .agg(\n",
    "        pl.col('populacao').sum()\n",
    "    )\n",
    "    .sort(['aaaa'])\n",
    "    .filter(\n",
    "        pl.col('aaaa') == dt.datetime(2024,1,1)\n",
    "    )\n",
    "    .with_columns(\n",
    "        pl.col('populacao').truediv(pl.col('populacao').sum()).alias('pct')\n",
    "    )\n",
    ")"
   ]
  },
  {
   "cell_type": "code",
   "execution_count": null,
   "id": "11308692-3fe6-4b58-a452-e93207a53fbf",
   "metadata": {},
   "outputs": [],
   "source": []
  }
 ],
 "metadata": {
  "kernelspec": {
   "display_name": "Python 3 (ipykernel)",
   "language": "python",
   "name": "python3"
  },
  "language_info": {
   "codemirror_mode": {
    "name": "ipython",
    "version": 3
   },
   "file_extension": ".py",
   "mimetype": "text/x-python",
   "name": "python",
   "nbconvert_exporter": "python",
   "pygments_lexer": "ipython3",
   "version": "3.9.6"
  }
 },
 "nbformat": 4,
 "nbformat_minor": 5
}
