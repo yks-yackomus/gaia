{
 "cells": [
  {
   "cell_type": "code",
   "execution_count": null,
   "id": "533ae46f-3540-4b73-999f-102aca351605",
   "metadata": {},
   "outputs": [],
   "source": [
    "import polars as pl"
   ]
  },
  {
   "cell_type": "code",
   "execution_count": null,
   "id": "b4d00096-e287-4b6f-be70-2f91dd662909",
   "metadata": {},
   "outputs": [],
   "source": [
    "(\n",
    "    pl.read_parquet('./municipio_populacao.parquet')\n",
    "    .join(\n",
    "        other=pl.read_excel('../territorio/uf_regiao.xlsx'),\n",
    "        on='uf_codigo',\n",
    "    )\n",
    "    .group_by([\n",
    "        'aaaa',\n",
    "        'regiao',\n",
    "    ])\n",
    "    .agg(\n",
    "        pl.col('populacao').sum()\n",
    "    )\n",
    "    .sort(['aaaa'])\n",
    ").write_csv('./p-populacao-regiao.csv')"
   ]
  },
  {
   "cell_type": "code",
   "execution_count": null,
   "id": "7d1ddbd0-8608-4afb-8bf9-89df46209849",
   "metadata": {},
   "outputs": [],
   "source": [
    "import datetime as dt"
   ]
  },
  {
   "cell_type": "code",
   "execution_count": null,
   "id": "f3a397f1-43be-44b4-aaa8-7ccb496fa2b6",
   "metadata": {},
   "outputs": [],
   "source": [
    "(\n",
    "    pl.read_parquet('./municipio_populacao.parquet')\n",
    "    .join(\n",
    "        other=pl.read_excel('../territorio/uf_regiao.xlsx'),\n",
    "        on='uf_codigo',\n",
    "    )\n",
    "    .group_by([\n",
    "        'aaaa',\n",
    "        'regiao',\n",
    "    ])\n",
    "    .agg(\n",
    "        pl.col('populacao').sum()\n",
    "    )\n",
    "    .sort(['aaaa'])\n",
    "    .filter(\n",
    "        pl.col('aaaa') == dt.datetime(2024,1,1)\n",
    "    )\n",
    "    .with_columns(\n",
    "        pl.col('populacao').truediv(pl.col('populacao').sum()).alias('pct')\n",
    "    )\n",
    ")"
   ]
  },
  {
   "cell_type": "code",
   "execution_count": null,
   "id": "11308692-3fe6-4b58-a452-e93207a53fbf",
   "metadata": {},
   "outputs": [],
   "source": []
  }
 ],
 "metadata": {
  "kernelspec": {
   "display_name": "Python 3 (ipykernel)",
   "language": "python",
   "name": "python3"
  },
  "language_info": {
   "codemirror_mode": {
    "name": "ipython",
    "version": 3
   },
   "file_extension": ".py",
   "mimetype": "text/x-python",
   "name": "python",
   "nbconvert_exporter": "python",
   "pygments_lexer": "ipython3",
   "version": "3.9.6"
  }
 },
 "nbformat": 4,
 "nbformat_minor": 5
}
